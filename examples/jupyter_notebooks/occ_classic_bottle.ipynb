{
 "cells": [
  {
   "cell_type": "code",
   "execution_count": 1,
   "metadata": {},
   "outputs": [
    {
     "name": "stdout",
     "output_type": "stream",
     "text": [
      "creating bottle\n",
      "bottle finished\n"
     ]
    }
   ],
   "source": [
    "import sys\n",
    "sys.path.append('..')\n",
    "from core_classic_occ_bottle import bottle"
   ]
  },
  {
   "cell_type": "code",
   "execution_count": 2,
   "metadata": {},
   "outputs": [],
   "source": [
    "from OCC.Display.WebGl import jupyter_renderer\n",
    "j = jupyter_renderer.JupyterRenderer()"
   ]
  },
  {
   "cell_type": "code",
   "execution_count": 3,
   "metadata": {},
   "outputs": [
    {
     "data": {
      "application/vnd.jupyter.widget-view+json": {
       "model_id": "2e37344074834b908a204046a8e92fe2",
       "version_major": 2,
       "version_minor": 0
      },
      "text/html": [
       "<p>Failed to display Jupyter Widget of type <code>Renderer</code>.</p>\n",
       "<p>\n",
       "  If you're reading this message in the Jupyter Notebook or JupyterLab Notebook, it may mean\n",
       "  that the widgets JavaScript is still loading. If this message persists, it\n",
       "  likely means that the widgets JavaScript library is either not installed or\n",
       "  not enabled. See the <a href=\"https://ipywidgets.readthedocs.io/en/stable/user_install.html\">Jupyter\n",
       "  Widgets Documentation</a> for setup instructions.\n",
       "</p>\n",
       "<p>\n",
       "  If you're reading this message in another frontend (for example, a static\n",
       "  rendering on GitHub or <a href=\"https://nbviewer.jupyter.org/\">NBViewer</a>),\n",
       "  it may mean that your frontend doesn't currently support widgets.\n",
       "</p>\n"
      ],
      "text/plain": [
       "Renderer(background='white', background_opacity=1.0, camera=PerspectiveCamera(children=[DirectionalLight(color='#ffffff', intensity=0.5, position=[50.0, 50.0, 50.0], scale=[1.0, 1.0, 1.0], up=[0.0, 1.0, 0.0])], position=[0.0, -106.47223142964584, 231.66418149619602], scale=[1.0, 1.0, 1.0], up=[0.0, 1.0, 0.0]), controls=[TrackballControls(controlling=PerspectiveCamera(children=[DirectionalLight(color='#ffffff', intensity=0.5, position=[50.0, 50.0, 50.0], scale=[1.0, 1.0, 1.0], up=[0.0, 1.0, 0.0])], position=[0.0, -106.47223142964584, 231.66418149619602], scale=[1.0, 1.0, 1.0], up=[0.0, 1.0, 0.0]), target=[0.0, 0.0, 0.0])], effect=None, scene=Scene(children=[Mesh(geometry=PlainBufferGeometry(faces=array([[   0,    1,    2],\n",
       "       [   3,    4,    5],\n",
       "       [   6,    7,    8],\n",
       "       ..., \n",
       "       [9663, 9664, 9665],\n",
       "       [9666, 9667, 9668],\n",
       "       [9669, 9670, 9671]], dtype=uint32), vertices=array([[  0.47092891,  -7.48520041,  77.        ],\n",
       "       [ -1.40535986,  -7.3671546 ,  70.        ],\n",
       "       [  0.47092891,  -7.48520041,  70.        ],\n",
       "       ..., \n",
       "       [  7.6669302 ,  -1.79827869,  75.18582916],\n",
       "       [  7.05317068,  -3.50263071,  75.16994476],\n",
       "       [  7.08475733,  -3.438308  ,  75.12415314]], dtype=float32)), material=PhongMaterial(color='#a6a6a6', envMap=None, lightMap=None, map=None, morphTargets=True, shininess=0.9, specularMap=None), position=[0.0, 0.0, 0.0], scale=[1.0, 1.0, 1.0], up=[0.0, 1.0, 0.0]), AmbientLight(color='#101010', position=[0.0, 0.0, 0.0], scale=[1.0, 1.0, 1.0], up=[0.0, 1.0, 0.0])], position=[0.0, 0.0, 0.0], scale=[1.0, 1.0, 1.0], up=[0.0, 1.0, 0.0]))"
      ]
     },
     "metadata": {},
     "output_type": "display_data"
    }
   ],
   "source": [
    "j.DisplayShape(bottle)"
   ]
  },
  {
   "cell_type": "code",
   "execution_count": null,
   "metadata": {},
   "outputs": [],
   "source": []
  }
 ],
 "metadata": {
  "kernelspec": {
   "display_name": "Python 3",
   "language": "python",
   "name": "python3"
  },
  "language_info": {
   "codemirror_mode": {
    "name": "ipython",
    "version": 3
   },
   "file_extension": ".py",
   "mimetype": "text/x-python",
   "name": "python",
   "nbconvert_exporter": "python",
   "pygments_lexer": "ipython3",
   "version": "3.6.3"
  }
 },
 "nbformat": 4,
 "nbformat_minor": 2
}
