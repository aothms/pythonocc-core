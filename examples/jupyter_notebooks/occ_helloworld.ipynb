{
 "cells": [
  {
   "cell_type": "code",
   "execution_count": 1,
   "metadata": {},
   "outputs": [],
   "source": [
    "from OCC.Display.WebGl.jupyter_renderer import JupyterRenderer\n",
    "from OCC.BRepPrimAPI import BRepPrimAPI_MakeBox"
   ]
  },
  {
   "cell_type": "code",
   "execution_count": 2,
   "metadata": {},
   "outputs": [],
   "source": [
    "my_renderer = JupyterRenderer()"
   ]
  },
  {
   "cell_type": "code",
   "execution_count": 3,
   "metadata": {},
   "outputs": [],
   "source": [
    "box_shape = BRepPrimAPI_MakeBox(10, 20, 30).Shape()"
   ]
  },
  {
   "cell_type": "code",
   "execution_count": 4,
   "metadata": {},
   "outputs": [
    {
     "data": {
      "application/vnd.jupyter.widget-view+json": {
       "model_id": "3191c307e665441698bbaae68edf1d49",
       "version_major": 2,
       "version_minor": 0
      },
      "text/html": [
       "<p>Failed to display Jupyter Widget of type <code>Renderer</code>.</p>\n",
       "<p>\n",
       "  If you're reading this message in the Jupyter Notebook or JupyterLab Notebook, it may mean\n",
       "  that the widgets JavaScript is still loading. If this message persists, it\n",
       "  likely means that the widgets JavaScript library is either not installed or\n",
       "  not enabled. See the <a href=\"https://ipywidgets.readthedocs.io/en/stable/user_install.html\">Jupyter\n",
       "  Widgets Documentation</a> for setup instructions.\n",
       "</p>\n",
       "<p>\n",
       "  If you're reading this message in another frontend (for example, a static\n",
       "  rendering on GitHub or <a href=\"https://nbviewer.jupyter.org/\">NBViewer</a>),\n",
       "  it may mean that your frontend doesn't currently support widgets.\n",
       "</p>\n"
      ],
      "text/plain": [
       "Renderer(background='white', background_opacity=1.0, camera=PerspectiveCamera(children=[DirectionalLight(color='#ffffff', intensity=0.5, position=[50.0, 50.0, 50.0], scale=[1.0, 1.0, 1.0], up=[0.0, 1.0, 0.0])], position=[0.0, -60.00006, 90.00005999999999], scale=[1.0, 1.0, 1.0], up=[0.0, 1.0, 0.0]), controls=[TrackballControls(controlling=PerspectiveCamera(children=[DirectionalLight(color='#ffffff', intensity=0.5, position=[50.0, 50.0, 50.0], scale=[1.0, 1.0, 1.0], up=[0.0, 1.0, 0.0])], position=[0.0, -60.00006, 90.00005999999999], scale=[1.0, 1.0, 1.0], up=[0.0, 1.0, 0.0]), target=[0.0, 0.0, 0.0])], effect=None, scene=Scene(children=[Mesh(geometry=PlainBufferGeometry(faces=array([[ 0,  1,  2],\n",
       "       [ 3,  4,  5],\n",
       "       [ 6,  7,  8],\n",
       "       [ 9, 10, 11],\n",
       "       [12, 13, 14],\n",
       "       [15, 16, 17],\n",
       "       [18, 19, 20],\n",
       "       [21, 22, 23],\n",
       "       [24, 25, 26],\n",
       "       [27, 28, 29],\n",
       "       [30, 31, 32],\n",
       "       [33, 34, 35]], dtype=uint32), vertices=array([[  0.,  20.,   0.],\n",
       "       [  0.,   0.,  30.],\n",
       "       [  0.,  20.,  30.],\n",
       "       [  0.,   0.,   0.],\n",
       "       [  0.,   0.,  30.],\n",
       "       [  0.,  20.,   0.],\n",
       "       [ 10.,   0.,  30.],\n",
       "       [ 10.,  20.,   0.],\n",
       "       [ 10.,  20.,  30.],\n",
       "       [ 10.,   0.,  30.],\n",
       "       [ 10.,   0.,   0.],\n",
       "       [ 10.,  20.,   0.],\n",
       "       [ 10.,   0.,   0.],\n",
       "       [ 10.,   0.,  30.],\n",
       "       [  0.,   0.,   0.],\n",
       "       [  0.,   0.,   0.],\n",
       "       [ 10.,   0.,  30.],\n",
       "       [  0.,   0.,  30.],\n",
       "       [ 10.,  20.,  30.],\n",
       "       [ 10.,  20.,   0.],\n",
       "       [  0.,  20.,   0.],\n",
       "       [ 10.,  20.,  30.],\n",
       "       [  0.,  20.,   0.],\n",
       "       [  0.,  20.,  30.],\n",
       "       [  0.,  20.,   0.],\n",
       "       [ 10.,  20.,   0.],\n",
       "       [  0.,   0.,   0.],\n",
       "       [  0.,   0.,   0.],\n",
       "       [ 10.,  20.,   0.],\n",
       "       [ 10.,   0.,   0.],\n",
       "       [ 10.,  20.,  30.],\n",
       "       [  0.,  20.,  30.],\n",
       "       [  0.,   0.,  30.],\n",
       "       [ 10.,  20.,  30.],\n",
       "       [  0.,   0.,  30.],\n",
       "       [ 10.,   0.,  30.]], dtype=float32)), material=PhongMaterial(color='#a6a6a6', envMap=None, lightMap=None, map=None, morphTargets=True, shininess=0.9, specularMap=None), position=[0.0, 0.0, 0.0], scale=[1.0, 1.0, 1.0], up=[0.0, 1.0, 0.0]), AmbientLight(color='#101010', position=[0.0, 0.0, 0.0], scale=[1.0, 1.0, 1.0], up=[0.0, 1.0, 0.0])], position=[0.0, 0.0, 0.0], scale=[1.0, 1.0, 1.0], up=[0.0, 1.0, 0.0]))"
      ]
     },
     "metadata": {},
     "output_type": "display_data"
    }
   ],
   "source": [
    "my_renderer.DisplayShape(box_shape)"
   ]
  },
  {
   "cell_type": "code",
   "execution_count": null,
   "metadata": {},
   "outputs": [],
   "source": []
  }
 ],
 "metadata": {
  "kernelspec": {
   "display_name": "Python 3",
   "language": "python",
   "name": "python3"
  },
  "language_info": {
   "codemirror_mode": {
    "name": "ipython",
    "version": 3
   },
   "file_extension": ".py",
   "mimetype": "text/x-python",
   "name": "python",
   "nbconvert_exporter": "python",
   "pygments_lexer": "ipython3",
   "version": "3.6.3"
  }
 },
 "nbformat": 4,
 "nbformat_minor": 2
}
