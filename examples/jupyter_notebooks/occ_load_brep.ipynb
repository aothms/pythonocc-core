{
 "cells": [
  {
   "cell_type": "code",
   "execution_count": 1,
   "metadata": {},
   "outputs": [],
   "source": [
    "from OCC.BRepTools import breptools_Read\n",
    "from OCC.TopoDS import TopoDS_Shape\n",
    "from OCC.BRep import BRep_Builder"
   ]
  },
  {
   "cell_type": "code",
   "execution_count": 2,
   "metadata": {},
   "outputs": [],
   "source": [
    "from OCC.Display.WebGl.jupyter_renderer import JupyterRenderer"
   ]
  },
  {
   "cell_type": "code",
   "execution_count": 3,
   "metadata": {},
   "outputs": [
    {
     "data": {
      "text/plain": [
       "True"
      ]
     },
     "execution_count": 3,
     "metadata": {},
     "output_type": "execute_result"
    }
   ],
   "source": [
    "cylinder_head = TopoDS_Shape()\n",
    "builder = BRep_Builder()\n",
    "breptools_Read(cylinder_head, '../models/cylinder_head.brep', builder)"
   ]
  },
  {
   "cell_type": "code",
   "execution_count": 4,
   "metadata": {},
   "outputs": [],
   "source": [
    "my_renderer = JupyterRenderer()"
   ]
  },
  {
   "cell_type": "code",
   "execution_count": 5,
   "metadata": {},
   "outputs": [
    {
     "data": {
      "application/vnd.jupyter.widget-view+json": {
       "model_id": "b11f540402f54e368b6024643d9706bf",
       "version_major": 2,
       "version_minor": 0
      },
      "text/html": [
       "<p>Failed to display Jupyter Widget of type <code>Renderer</code>.</p>\n",
       "<p>\n",
       "  If you're reading this message in the Jupyter Notebook or JupyterLab Notebook, it may mean\n",
       "  that the widgets JavaScript is still loading. If this message persists, it\n",
       "  likely means that the widgets JavaScript library is either not installed or\n",
       "  not enabled. See the <a href=\"https://ipywidgets.readthedocs.io/en/stable/user_install.html\">Jupyter\n",
       "  Widgets Documentation</a> for setup instructions.\n",
       "</p>\n",
       "<p>\n",
       "  If you're reading this message in another frontend (for example, a static\n",
       "  rendering on GitHub or <a href=\"https://nbviewer.jupyter.org/\">NBViewer</a>),\n",
       "  it may mean that your frontend doesn't currently support widgets.\n",
       "</p>\n"
      ],
      "text/plain": [
       "Renderer(background='white', background_opacity=1.0, camera=PerspectiveCamera(children=[DirectionalLight(color='#ffffff', intensity=0.5, position=[50.0, 50.0, 50.0], scale=[1.0, 1.0, 1.0], up=[0.0, 1.0, 0.0])], position=[0.0, -555.8432855536736, 477.5623189535355], scale=[1.0, 1.0, 1.0], up=[0.0, 1.0, 0.0]), controls=[TrackballControls(controlling=PerspectiveCamera(children=[DirectionalLight(color='#ffffff', intensity=0.5, position=[50.0, 50.0, 50.0], scale=[1.0, 1.0, 1.0], up=[0.0, 1.0, 0.0])], position=[0.0, -555.8432855536736, 477.5623189535355], scale=[1.0, 1.0, 1.0], up=[0.0, 1.0, 0.0]), target=[0.0, 0.0, 0.0])], effect=None, scene=Scene(children=[Mesh(geometry=PlainBufferGeometry(faces=array([[     0,      1,      2],\n",
       "       [     3,      4,      5],\n",
       "       [     6,      7,      8],\n",
       "       ..., \n",
       "       [178062, 178063, 178064],\n",
       "       [178065, 178066, 178067],\n",
       "       [178068, 178069, 178070]], dtype=uint32), vertices=array([[ 48.45660782,   9.46968651,  38.37055206],\n",
       "       [ 48.45660782,   6.56337786,  41.04599762],\n",
       "       [ 45.41836548,   7.29191446,  40.53037262],\n",
       "       ..., \n",
       "       [ 26.25224495,  42.5537262 ,  79.        ],\n",
       "       [ 38.84890747,  31.47637939,  79.        ],\n",
       "       [ 30.85803223,  39.34185791,  77.        ]], dtype=float32)), material=PhongMaterial(color='#a6a6a6', envMap=None, lightMap=None, map=None, morphTargets=True, shininess=0.9, specularMap=None), position=[0.0, 0.0, 0.0], scale=[1.0, 1.0, 1.0], up=[0.0, 1.0, 0.0]), AmbientLight(color='#101010', position=[0.0, 0.0, 0.0], scale=[1.0, 1.0, 1.0], up=[0.0, 1.0, 0.0])], position=[0.0, 0.0, 0.0], scale=[1.0, 1.0, 1.0], up=[0.0, 1.0, 0.0]))"
      ]
     },
     "metadata": {},
     "output_type": "display_data"
    }
   ],
   "source": [
    "my_renderer.DisplayShape(cylinder_head)"
   ]
  },
  {
   "cell_type": "code",
   "execution_count": null,
   "metadata": {},
   "outputs": [],
   "source": []
  }
 ],
 "metadata": {
  "kernelspec": {
   "display_name": "Python 3",
   "language": "python",
   "name": "python3"
  },
  "language_info": {
   "codemirror_mode": {
    "name": "ipython",
    "version": 3
   },
   "file_extension": ".py",
   "mimetype": "text/x-python",
   "name": "python",
   "nbconvert_exporter": "python",
   "pygments_lexer": "ipython3",
   "version": "3.6.3"
  }
 },
 "nbformat": 4,
 "nbformat_minor": 2
}
